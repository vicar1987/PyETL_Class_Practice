{
 "cells": [
  {
   "cell_type": "code",
   "execution_count": 1,
   "id": "c7791c6c",
   "metadata": {
    "ExecuteTime": {
     "end_time": "2021-05-16T03:41:55.684522Z",
     "start_time": "2021-05-16T03:41:52.772370Z"
    }
   },
   "outputs": [
    {
     "name": "stdout",
     "output_type": "stream",
     "text": [
      "Collecting jieba\n",
      "  Using cached jieba-0.42.1-py3-none-any.whl\n",
      "Installing collected packages: jieba\n",
      "Successfully installed jieba-0.42.1\n"
     ]
    }
   ],
   "source": [
    "!pip install jieba"
   ]
  },
  {
   "cell_type": "code",
   "execution_count": 3,
   "id": "012f0b99",
   "metadata": {
    "ExecuteTime": {
     "end_time": "2021-05-16T03:47:16.084061Z",
     "start_time": "2021-05-16T03:47:15.408638Z"
    }
   },
   "outputs": [
    {
     "name": "stderr",
     "output_type": "stream",
     "text": [
      "Building prefix dict from the default dictionary ...\n",
      "Dumping model to file cache C:\\Users\\TIBAME~1\\AppData\\Local\\Temp\\jieba.cache\n",
      "Loading model cost 0.656 seconds.\n",
      "Prefix dict has been built successfully.\n"
     ]
    },
    {
     "name": "stdout",
     "output_type": "stream",
     "text": [
      "今天 | 天天 | 氣 | 很 | 好 | ， | 我 | 想出 | 出去 | 跑步\n",
      "今天 | 天氣 | 很 | 好 | ， | 我 | 想 | 出去 | 跑步\n",
      "今天 | 天氣 | 很 | 好 | ， | 我 | 想 | 出去 | 跑步\n",
      "今天 | 天氣 | 很 | 好 | ， | 我 | 想 | 出去 | 跑步\n"
     ]
    }
   ],
   "source": [
    "import jieba\n",
    "\n",
    "s = \"今天天氣很好，我想出去跑步\"\n",
    "\n",
    "s1List = jieba.cut(s, cut_all=True)\n",
    "s2List = jieba.cut(s, cut_all=False)\n",
    "s3List = jieba.cut(s)\n",
    "s4List = jieba.cut_for_search(s)\n",
    "\n",
    "print(' | '.join(s1List))\n",
    "print(' | '.join(s2List))\n",
    "print(' | '.join(s3List))\n",
    "print(' | '.join(s4List))"
   ]
  },
  {
   "cell_type": "code",
   "execution_count": 5,
   "id": "0e991425",
   "metadata": {
    "ExecuteTime": {
     "end_time": "2021-05-16T05:55:32.204375Z",
     "start_time": "2021-05-16T05:55:32.181729Z"
    }
   },
   "outputs": [
    {
     "name": "stdout",
     "output_type": "stream",
     "text": [
      "今天 | 天天 | 天氣 | 很好 | ， | 我 | 想出 | 出去 | 跑步\n",
      "今天 | 天氣 | 很好 | ， | 我 | 想 | 出去 | 跑步\n",
      "今天 | 天氣 | 很好 | ， | 我 | 想 | 出去 | 跑步\n",
      "今天 | 天氣 | 很好 | ， | 我 | 想 | 出去 | 跑步\n"
     ]
    }
   ],
   "source": [
    "jieba.load_userdict('./mydict.txt')\n",
    "\n",
    "s = \"今天天氣很好，我想出去跑步\"\n",
    "\n",
    "s1List = jieba.cut(s, cut_all=True)\n",
    "s2List = jieba.cut(s, cut_all=False)\n",
    "s3List = jieba.cut(s)\n",
    "s4List = jieba.cut_for_search(s)\n",
    "\n",
    "print(' | '.join(s1List))\n",
    "print(' | '.join(s2List))\n",
    "print(' | '.join(s3List))\n",
    "print(' | '.join(s4List))"
   ]
  },
  {
   "cell_type": "code",
   "execution_count": null,
   "id": "83c803d2",
   "metadata": {},
   "outputs": [],
   "source": []
  }
 ],
 "metadata": {
  "kernelspec": {
   "display_name": "Python 3",
   "language": "python",
   "name": "python3"
  },
  "language_info": {
   "codemirror_mode": {
    "name": "ipython",
    "version": 3
   },
   "file_extension": ".py",
   "mimetype": "text/x-python",
   "name": "python",
   "nbconvert_exporter": "python",
   "pygments_lexer": "ipython3",
   "version": "3.8.8"
  },
  "toc": {
   "base_numbering": 1,
   "nav_menu": {},
   "number_sections": true,
   "sideBar": true,
   "skip_h1_title": false,
   "title_cell": "Table of Contents",
   "title_sidebar": "Contents",
   "toc_cell": false,
   "toc_position": {},
   "toc_section_display": true,
   "toc_window_display": false
  },
  "varInspector": {
   "cols": {
    "lenName": 16,
    "lenType": 16,
    "lenVar": 40
   },
   "kernels_config": {
    "python": {
     "delete_cmd_postfix": "",
     "delete_cmd_prefix": "del ",
     "library": "var_list.py",
     "varRefreshCmd": "print(var_dic_list())"
    },
    "r": {
     "delete_cmd_postfix": ") ",
     "delete_cmd_prefix": "rm(",
     "library": "var_list.r",
     "varRefreshCmd": "cat(var_dic_list()) "
    }
   },
   "types_to_exclude": [
    "module",
    "function",
    "builtin_function_or_method",
    "instance",
    "_Feature"
   ],
   "window_display": false
  }
 },
 "nbformat": 4,
 "nbformat_minor": 5
}
