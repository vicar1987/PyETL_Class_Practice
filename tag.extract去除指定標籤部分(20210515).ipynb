{
 "cells": [
  {
   "cell_type": "code",
   "execution_count": 3,
   "metadata": {
    "ExecuteTime": {
     "end_time": "2021-05-15T01:55:09.952392Z",
     "start_time": "2021-05-15T01:55:09.288074Z"
    }
   },
   "outputs": [
    {
     "data": {
      "text/plain": [
       "[<span class=\"article-meta-tag\">作者</span>,\n",
       " <span class=\"article-meta-value\">Yeanfan (EDDIE)</span>,\n",
       " <span class=\"article-meta-tag\">看板</span>,\n",
       " <span class=\"article-meta-value\">movie</span>,\n",
       " <span class=\"article-meta-tag\">標題</span>,\n",
       " <span class=\"article-meta-value\">[心得] 127小時是一部不錯的電影吧？</span>,\n",
       " <span class=\"article-meta-tag\">時間</span>,\n",
       " <span class=\"article-meta-value\">Sat May 15 00:16:08 2021</span>,\n",
       " <span class=\"f2\">※ 發信站: 批踢踢實業坊(ptt.cc), 來自: 111.71.78.20 (臺灣)\n",
       " </span>,\n",
       " <span class=\"f2\">※ 文章網址: <a href=\"https://www.ptt.cc/bbs/movie/M.1621008970.A.7E3.html\" rel=\"nofollow\" target=\"_blank\">https://www.ptt.cc/bbs/movie/M.1621008970.A.7E3.html</a>\n",
       " </span>,\n",
       " <span class=\"f1 hl push-tag\">→ </span>,\n",
       " <span class=\"f3 hl push-userid\">j1551082    </span>,\n",
       " <span class=\"f3 push-content\">: 看完127小時的觀眾可能比較值得稱讚</span>,\n",
       " <span class=\"push-ipdatetime\"> 05/15 00:41\n",
       " </span>,\n",
       " <span class=\"f1 hl push-tag\">→ </span>,\n",
       " <span class=\"f3 hl push-userid\">pocketshape </span>,\n",
       " <span class=\"f3 push-content\">: 同樓上==</span>,\n",
       " <span class=\"push-ipdatetime\"> 05/15 01:24\n",
       " </span>,\n",
       " <span class=\"hl push-tag\">推 </span>,\n",
       " <span class=\"f3 hl push-userid\">KentHao     </span>,\n",
       " <span class=\"f3 push-content\">: 其實這部真的蠻好看的</span>,\n",
       " <span class=\"push-ipdatetime\"> 05/15 02:39\n",
       " </span>,\n",
       " <span class=\"hl push-tag\">推 </span>,\n",
       " <span class=\"f3 hl push-userid\">tankjung    </span>,\n",
       " <span class=\"f3 push-content\">: 這部是我國小去電影院看的</span>,\n",
       " <span class=\"push-ipdatetime\"> 05/15 02:43\n",
       " </span>,\n",
       " <span class=\"hl push-tag\">推 </span>,\n",
       " <span class=\"f3 hl push-userid\">jy60415     </span>,\n",
       " <span class=\"f3 push-content\">: 真的好看，尤其是脫困前自力救濟那一段看了真的很</span>,\n",
       " <span class=\"push-ipdatetime\"> 05/15 02:43\n",
       " </span>,\n",
       " <span class=\"f1 hl push-tag\">→ </span>,\n",
       " <span class=\"f3 hl push-userid\">jy60415     </span>,\n",
       " <span class=\"f3 push-content\">: 怕</span>,\n",
       " <span class=\"push-ipdatetime\"> 05/15 02:43\n",
       " </span>,\n",
       " <span class=\"f1 hl push-tag\">→ </span>,\n",
       " <span class=\"f3 hl push-userid\">streakray   </span>,\n",
       " <span class=\"f3 push-content\">: 好看阿 只是切手那邊有點可怕</span>,\n",
       " <span class=\"push-ipdatetime\"> 05/15 03:06\n",
       " </span>,\n",
       " <span class=\"hl push-tag\">推 </span>,\n",
       " <span class=\"f3 hl push-userid\">zeroyang    </span>,\n",
       " <span class=\"f3 push-content\">: 我只記得不要買那把小刀XD</span>,\n",
       " <span class=\"push-ipdatetime\"> 05/15 07:47\n",
       " </span>,\n",
       " <span class=\"hl push-tag\">推 </span>,\n",
       " <span class=\"f3 hl push-userid\">oneyoung    </span>,\n",
       " <span class=\"f3 push-content\">: 我覺得蠻好看的</span>,\n",
       " <span class=\"push-ipdatetime\"> 05/15 08:38\n",
       " </span>,\n",
       " <span class=\"f1 hl push-tag\">→ </span>,\n",
       " <span class=\"f3 hl push-userid\">qoo2002s    </span>,\n",
       " <span class=\"f3 push-content\">: 很好看啊 原來我很厲害</span>,\n",
       " <span class=\"push-ipdatetime\"> 05/15 08:46\n",
       " </span>,\n",
       " <span class=\"f1 hl push-tag\">→ </span>,\n",
       " <span class=\"f3 hl push-userid\">asher02     </span>,\n",
       " <span class=\"f3 push-content\">: 只會看一次</span>,\n",
       " <span class=\"push-ipdatetime\"> 05/15 09:02\n",
       " </span>]"
      ]
     },
     "execution_count": 3,
     "metadata": {},
     "output_type": "execute_result"
    }
   ],
   "source": [
    "import os\n",
    "\n",
    "import requests\n",
    "from bs4 import BeautifulSoup\n",
    "\n",
    "if not os.path.exists('./pttMovie'):\n",
    "    os.mkdir('./pttMovie')\n",
    "\n",
    "url = 'https://www.ptt.cc/bbs/movie/index.html'\n",
    "\n",
    "headers = {\n",
    "    'User-Agent': 'Mozilla/5.0 (Macintosh; Intel Mac OS X 10_15_7) AppleWebKit/537.36 (KHTML, like Gecko) Chrome/90.0.4430.93 Safari/537.36'\n",
    "}\n",
    "\n",
    "urlArticle = 'https://www.ptt.cc/bbs/movie/M.1621008970.A.7E3.html'\n",
    "resArticle = requests.get(urlArticle, headers=headers)\n",
    "soupArticle = BeautifulSoup(resArticle.text, 'html.parser')\n",
    "articleContent = soupArticle.select('div[id=\"main-content\"]')[0]\n",
    "\n",
    "articleContent.select('span')"
   ]
  },
  {
   "cell_type": "code",
   "execution_count": 4,
   "metadata": {
    "ExecuteTime": {
     "end_time": "2021-05-15T01:55:32.936819Z",
     "start_time": "2021-05-15T01:55:32.923335Z"
    }
   },
   "outputs": [
    {
     "data": {
      "text/plain": [
       "<span class=\"article-meta-tag\">作者</span>"
      ]
     },
     "execution_count": 4,
     "metadata": {},
     "output_type": "execute_result"
    }
   ],
   "source": [
    "articleContent.select('span')[0].extract()"
   ]
  },
  {
   "cell_type": "code",
   "execution_count": 5,
   "metadata": {
    "ExecuteTime": {
     "end_time": "2021-05-15T01:55:41.833766Z",
     "start_time": "2021-05-15T01:55:41.822309Z"
    }
   },
   "outputs": [
    {
     "data": {
      "text/plain": [
       "[<span class=\"article-meta-value\">Yeanfan (EDDIE)</span>,\n",
       " <span class=\"article-meta-tag\">看板</span>,\n",
       " <span class=\"article-meta-value\">movie</span>,\n",
       " <span class=\"article-meta-tag\">標題</span>,\n",
       " <span class=\"article-meta-value\">[心得] 127小時是一部不錯的電影吧？</span>,\n",
       " <span class=\"article-meta-tag\">時間</span>,\n",
       " <span class=\"article-meta-value\">Sat May 15 00:16:08 2021</span>,\n",
       " <span class=\"f2\">※ 發信站: 批踢踢實業坊(ptt.cc), 來自: 111.71.78.20 (臺灣)\n",
       " </span>,\n",
       " <span class=\"f2\">※ 文章網址: <a href=\"https://www.ptt.cc/bbs/movie/M.1621008970.A.7E3.html\" rel=\"nofollow\" target=\"_blank\">https://www.ptt.cc/bbs/movie/M.1621008970.A.7E3.html</a>\n",
       " </span>,\n",
       " <span class=\"f1 hl push-tag\">→ </span>,\n",
       " <span class=\"f3 hl push-userid\">j1551082    </span>,\n",
       " <span class=\"f3 push-content\">: 看完127小時的觀眾可能比較值得稱讚</span>,\n",
       " <span class=\"push-ipdatetime\"> 05/15 00:41\n",
       " </span>,\n",
       " <span class=\"f1 hl push-tag\">→ </span>,\n",
       " <span class=\"f3 hl push-userid\">pocketshape </span>,\n",
       " <span class=\"f3 push-content\">: 同樓上==</span>,\n",
       " <span class=\"push-ipdatetime\"> 05/15 01:24\n",
       " </span>,\n",
       " <span class=\"hl push-tag\">推 </span>,\n",
       " <span class=\"f3 hl push-userid\">KentHao     </span>,\n",
       " <span class=\"f3 push-content\">: 其實這部真的蠻好看的</span>,\n",
       " <span class=\"push-ipdatetime\"> 05/15 02:39\n",
       " </span>,\n",
       " <span class=\"hl push-tag\">推 </span>,\n",
       " <span class=\"f3 hl push-userid\">tankjung    </span>,\n",
       " <span class=\"f3 push-content\">: 這部是我國小去電影院看的</span>,\n",
       " <span class=\"push-ipdatetime\"> 05/15 02:43\n",
       " </span>,\n",
       " <span class=\"hl push-tag\">推 </span>,\n",
       " <span class=\"f3 hl push-userid\">jy60415     </span>,\n",
       " <span class=\"f3 push-content\">: 真的好看，尤其是脫困前自力救濟那一段看了真的很</span>,\n",
       " <span class=\"push-ipdatetime\"> 05/15 02:43\n",
       " </span>,\n",
       " <span class=\"f1 hl push-tag\">→ </span>,\n",
       " <span class=\"f3 hl push-userid\">jy60415     </span>,\n",
       " <span class=\"f3 push-content\">: 怕</span>,\n",
       " <span class=\"push-ipdatetime\"> 05/15 02:43\n",
       " </span>,\n",
       " <span class=\"f1 hl push-tag\">→ </span>,\n",
       " <span class=\"f3 hl push-userid\">streakray   </span>,\n",
       " <span class=\"f3 push-content\">: 好看阿 只是切手那邊有點可怕</span>,\n",
       " <span class=\"push-ipdatetime\"> 05/15 03:06\n",
       " </span>,\n",
       " <span class=\"hl push-tag\">推 </span>,\n",
       " <span class=\"f3 hl push-userid\">zeroyang    </span>,\n",
       " <span class=\"f3 push-content\">: 我只記得不要買那把小刀XD</span>,\n",
       " <span class=\"push-ipdatetime\"> 05/15 07:47\n",
       " </span>,\n",
       " <span class=\"hl push-tag\">推 </span>,\n",
       " <span class=\"f3 hl push-userid\">oneyoung    </span>,\n",
       " <span class=\"f3 push-content\">: 我覺得蠻好看的</span>,\n",
       " <span class=\"push-ipdatetime\"> 05/15 08:38\n",
       " </span>,\n",
       " <span class=\"f1 hl push-tag\">→ </span>,\n",
       " <span class=\"f3 hl push-userid\">qoo2002s    </span>,\n",
       " <span class=\"f3 push-content\">: 很好看啊 原來我很厲害</span>,\n",
       " <span class=\"push-ipdatetime\"> 05/15 08:46\n",
       " </span>,\n",
       " <span class=\"f1 hl push-tag\">→ </span>,\n",
       " <span class=\"f3 hl push-userid\">asher02     </span>,\n",
       " <span class=\"f3 push-content\">: 只會看一次</span>,\n",
       " <span class=\"push-ipdatetime\"> 05/15 09:02\n",
       " </span>]"
      ]
     },
     "execution_count": 5,
     "metadata": {},
     "output_type": "execute_result"
    }
   ],
   "source": [
    "articleContent.select('span')"
   ]
  },
  {
   "cell_type": "code",
   "execution_count": 6,
   "metadata": {
    "ExecuteTime": {
     "end_time": "2021-05-15T01:56:59.597797Z",
     "start_time": "2021-05-15T01:56:59.582714Z"
    }
   },
   "outputs": [],
   "source": [
    "for tag in articleContent.select('span'):\n",
    "    tag.extract()\n",
    "\n",
    "# 去除有 span 標籤的部分"
   ]
  },
  {
   "cell_type": "code",
   "execution_count": 7,
   "metadata": {
    "ExecuteTime": {
     "end_time": "2021-05-15T01:57:08.108097Z",
     "start_time": "2021-05-15T01:57:08.088127Z"
    }
   },
   "outputs": [
    {
     "data": {
      "text/plain": [
       "[]"
      ]
     },
     "execution_count": 7,
     "metadata": {},
     "output_type": "execute_result"
    }
   ],
   "source": [
    "articleContent.select('span')"
   ]
  },
  {
   "cell_type": "code",
   "execution_count": 8,
   "metadata": {
    "ExecuteTime": {
     "end_time": "2021-05-15T01:57:32.145214Z",
     "start_time": "2021-05-15T01:57:32.125253Z"
    }
   },
   "outputs": [
    {
     "data": {
      "text/plain": [
       "<div class=\"bbs-screen bbs-content\" id=\"main-content\"><div class=\"article-metaline\"></div><div class=\"article-metaline-right\"></div><div class=\"article-metaline\"></div><div class=\"article-metaline\"></div>\n",
       "\n",
       "熱愛冒險，挑戰攀岩\n",
       "出門都不會留下紙條\n",
       "在一次的攀岩中不小心右手被巨石夾到\n",
       "和巨石相處了將近一個禮拜，127小時\n",
       "身上沒有食物只靠水撐住\n",
       "一直和自己對話保持清醒\n",
       "最後割下了自己的右手腕\n",
       "<a href=\"https://i.imgur.com/FLqjaZL.jpg\" rel=\"nofollow\" target=\"_blank\">https://i.imgur.com/FLqjaZL.jpg</a>\n",
       "<div class=\"richcontent\"><blockquote class=\"imgur-embed-pub\" data-id=\"FLqjaZL\" lang=\"en\"><a href=\"//imgur.com/FLqjaZL\"></a></blockquote><script async=\"\" charset=\"utf-8\" src=\"//s.imgur.com/min/embed.js\"></script></div><a href=\"https://i.imgur.com/Dy4FqOD.jpg\" rel=\"nofollow\" target=\"_blank\">https://i.imgur.com/Dy4FqOD.jpg</a>\n",
       "<div class=\"richcontent\"><blockquote class=\"imgur-embed-pub\" data-id=\"Dy4FqOD\" lang=\"en\"><a href=\"//imgur.com/Dy4FqOD\"></a></blockquote><script async=\"\" charset=\"utf-8\" src=\"//s.imgur.com/min/embed.js\"></script></div>\n",
       "--\n",
       "<div class=\"push\"></div><div class=\"push\"></div><div class=\"push\"></div><div class=\"push\"></div><div class=\"push\"></div><div class=\"push\"></div><div class=\"push\"></div><div class=\"push\"></div><div class=\"push\"></div><div class=\"push\"></div><div class=\"push\"></div></div>"
      ]
     },
     "execution_count": 8,
     "metadata": {},
     "output_type": "execute_result"
    }
   ],
   "source": [
    "articleContent\n",
    "# 執行迴圈後, 發現 span 標籤的部分都被去除了"
   ]
  },
  {
   "cell_type": "code",
   "execution_count": 12,
   "metadata": {
    "ExecuteTime": {
     "end_time": "2021-05-15T01:59:49.790121Z",
     "start_time": "2021-05-15T01:59:49.784137Z"
    }
   },
   "outputs": [],
   "source": [
    "for tag in articleContent.select('div'):\n",
    "    tag.extract()\n",
    "    \n",
    "# 去除有 div 標籤部分"
   ]
  },
  {
   "cell_type": "code",
   "execution_count": 10,
   "metadata": {
    "ExecuteTime": {
     "end_time": "2021-05-15T01:58:37.361312Z",
     "start_time": "2021-05-15T01:58:37.349345Z"
    }
   },
   "outputs": [
    {
     "data": {
      "text/plain": [
       "<div class=\"bbs-screen bbs-content\" id=\"main-content\">\n",
       "\n",
       "熱愛冒險，挑戰攀岩\n",
       "出門都不會留下紙條\n",
       "在一次的攀岩中不小心右手被巨石夾到\n",
       "和巨石相處了將近一個禮拜，127小時\n",
       "身上沒有食物只靠水撐住\n",
       "一直和自己對話保持清醒\n",
       "最後割下了自己的右手腕\n",
       "<a href=\"https://i.imgur.com/FLqjaZL.jpg\" rel=\"nofollow\" target=\"_blank\">https://i.imgur.com/FLqjaZL.jpg</a>\n",
       "<a href=\"https://i.imgur.com/Dy4FqOD.jpg\" rel=\"nofollow\" target=\"_blank\">https://i.imgur.com/Dy4FqOD.jpg</a>\n",
       "\n",
       "--\n",
       "</div>"
      ]
     },
     "execution_count": 10,
     "metadata": {},
     "output_type": "execute_result"
    }
   ],
   "source": [
    "articleContent\n",
    "# 執行迴圈後, 發現 div 標籤的部分都被去除了"
   ]
  },
  {
   "cell_type": "code",
   "execution_count": 11,
   "metadata": {
    "ExecuteTime": {
     "end_time": "2021-05-15T01:59:24.797023Z",
     "start_time": "2021-05-15T01:59:24.778053Z"
    }
   },
   "outputs": [
    {
     "data": {
      "text/plain": [
       "'\\n\\n熱愛冒險，挑戰攀岩\\n出門都不會留下紙條\\n在一次的攀岩中不小心右手被巨石夾到\\n和巨石相處了將近一個禮拜，127小時\\n身上沒有食物只靠水撐住\\n一直和自己對話保持清醒\\n最後割下了自己的右手腕\\nhttps://i.imgur.com/FLqjaZL.jpg\\nhttps://i.imgur.com/Dy4FqOD.jpg\\n\\n--\\n'"
      ]
     },
     "execution_count": 11,
     "metadata": {},
     "output_type": "execute_result"
    }
   ],
   "source": [
    "articleContent.text\n",
    "# 取出文章內容"
   ]
  },
  {
   "cell_type": "code",
   "execution_count": null,
   "metadata": {},
   "outputs": [],
   "source": []
  }
 ],
 "metadata": {
  "kernelspec": {
   "display_name": "Python 3",
   "language": "python",
   "name": "python3"
  },
  "language_info": {
   "codemirror_mode": {
    "name": "ipython",
    "version": 3
   },
   "file_extension": ".py",
   "mimetype": "text/x-python",
   "name": "python",
   "nbconvert_exporter": "python",
   "pygments_lexer": "ipython3",
   "version": "3.8.5"
  },
  "toc": {
   "base_numbering": 1,
   "nav_menu": {},
   "number_sections": true,
   "sideBar": true,
   "skip_h1_title": false,
   "title_cell": "Table of Contents",
   "title_sidebar": "Contents",
   "toc_cell": false,
   "toc_position": {},
   "toc_section_display": true,
   "toc_window_display": false
  },
  "varInspector": {
   "cols": {
    "lenName": 16,
    "lenType": 16,
    "lenVar": 40
   },
   "kernels_config": {
    "python": {
     "delete_cmd_postfix": "",
     "delete_cmd_prefix": "del ",
     "library": "var_list.py",
     "varRefreshCmd": "print(var_dic_list())"
    },
    "r": {
     "delete_cmd_postfix": ") ",
     "delete_cmd_prefix": "rm(",
     "library": "var_list.r",
     "varRefreshCmd": "cat(var_dic_list()) "
    }
   },
   "types_to_exclude": [
    "module",
    "function",
    "builtin_function_or_method",
    "instance",
    "_Feature"
   ],
   "window_display": false
  }
 },
 "nbformat": 4,
 "nbformat_minor": 5
}
